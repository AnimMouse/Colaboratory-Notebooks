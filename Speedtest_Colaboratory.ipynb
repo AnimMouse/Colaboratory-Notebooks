{
  "nbformat": 4,
  "nbformat_minor": 0,
  "metadata": {
    "colab": {
      "provenance": []
    },
    "kernelspec": {
      "name": "python3",
      "display_name": "Python 3"
    }
  },
  "cells": [
    {
      "cell_type": "markdown",
      "metadata": {
        "id": "gtr4V55UNFF4"
      },
      "source": [
        "# Speedtest CLI on Google Colaboratory\n",
        "Feel the power of Google's internet.\n",
        "Check Google's internet speed on Colaboratory using [Speedtest CLI](https://www.speedtest.net/apps/cli)"
      ]
    },
    {
      "cell_type": "code",
      "metadata": {
        "colab": {
          "base_uri": "https://localhost:8080/"
        },
        "id": "wSCYvU0xKqXV",
        "outputId": "a53fc81e-3fd8-4ed7-90ec-92258ef51207"
      },
      "source": [
        "# Taken from https://www.speedtest.net/apps/cli\n",
        "!curl -s https://packagecloud.io/install/repositories/ookla/speedtest-cli/script.deb.sh | sudo bash\n",
        "!sudo apt-get install speedtest"
      ],
      "execution_count": 1,
      "outputs": [
        {
          "output_type": "stream",
          "name": "stdout",
          "text": [
            "Detected operating system as Ubuntu/jammy.\n",
            "Checking for curl...\n",
            "Detected curl...\n",
            "Checking for gpg...\n",
            "Detected gpg...\n",
            "Detected apt version as 2.4.11\n",
            "Running apt-get update... done.\n",
            "Installing apt-transport-https... done.\n",
            "Installing /etc/apt/sources.list.d/ookla_speedtest-cli.list...done.\n",
            "Importing packagecloud gpg key... Packagecloud gpg key imported to /etc/apt/keyrings/ookla_speedtest-cli-archive-keyring.gpg\n",
            "done.\n",
            "Running apt-get update... done.\n",
            "\n",
            "The repository is setup! You can now install packages.\n",
            "Reading package lists... Done\n",
            "Building dependency tree... Done\n",
            "Reading state information... Done\n",
            "The following NEW packages will be installed:\n",
            "  speedtest\n",
            "0 upgraded, 1 newly installed, 0 to remove and 32 not upgraded.\n",
            "Need to get 1,106 kB of archives.\n",
            "After this operation, 2,628 kB of additional disk space will be used.\n",
            "Get:1 https://packagecloud.io/ookla/speedtest-cli/ubuntu jammy/main amd64 speedtest amd64 1.2.0.84-1.ea6b6773cf [1,106 kB]\n",
            "Fetched 1,106 kB in 1s (1,557 kB/s)\n",
            "debconf: unable to initialize frontend: Dialog\n",
            "debconf: (No usable dialog-like program is installed, so the dialog based frontend cannot be used. at /usr/share/perl5/Debconf/FrontEnd/Dialog.pm line 78, <> line 1.)\n",
            "debconf: falling back to frontend: Readline\n",
            "debconf: unable to initialize frontend: Readline\n",
            "debconf: (This frontend requires a controlling tty.)\n",
            "debconf: falling back to frontend: Teletype\n",
            "dpkg-preconfigure: unable to re-open stdin: \n",
            "Selecting previously unselected package speedtest.\n",
            "(Reading database ... 121662 files and directories currently installed.)\n",
            "Preparing to unpack .../speedtest_1.2.0.84-1.ea6b6773cf_amd64.deb ...\n",
            "Unpacking speedtest (1.2.0.84-1.ea6b6773cf) ...\n",
            "Setting up speedtest (1.2.0.84-1.ea6b6773cf) ...\n",
            "Processing triggers for man-db (2.10.2-1) ...\n"
          ]
        }
      ]
    },
    {
      "cell_type": "code",
      "metadata": {
        "colab": {
          "base_uri": "https://localhost:8080/"
        },
        "id": "l_ssPKHRLgaF",
        "outputId": "107b01d5-00e9-4f9b-b9df-7cebc4362da5"
      },
      "source": [
        "!speedtest"
      ],
      "execution_count": 2,
      "outputs": [
        {
          "output_type": "stream",
          "name": "stdout",
          "text": [
            "==============================================================================\n",
            "\n",
            "You may only use this Speedtest software and information generated\n",
            "from it for personal, non-commercial use, through a command line\n",
            "interface on a personal computer. Your use of this software is subject\n",
            "to the End User License Agreement, Terms of Use and Privacy Policy at\n",
            "these URLs:\n",
            "\n",
            "\thttps://www.speedtest.net/about/eula\n",
            "\thttps://www.speedtest.net/about/terms\n",
            "\thttps://www.speedtest.net/about/privacy\n",
            "\n",
            "==============================================================================\n",
            "\n",
            "Do you accept the license? [type YES to accept]: YES\n",
            "License acceptance recorded. Continuing.\n",
            "\n",
            "==============================================================================\n",
            "\n",
            "Ookla collects certain data through Speedtest that may be considered\n",
            "personally identifiable, such as your IP address, unique device\n",
            "identifiers or location. Ookla believes it has a legitimate interest\n",
            "to share this data with internet providers, hardware manufacturers and\n",
            "industry regulators to help them understand and create a better and\n",
            "faster internet. For further information including how the data may be\n",
            "shared, where the data may be transferred and Ookla's contact details,\n",
            "please see our Privacy Policy at:\n",
            "\n",
            "       http://www.speedtest.net/privacy\n",
            "\n",
            "==============================================================================\n",
            "\n",
            "Do you accept the license? [type YES to accept]: YES\n",
            "License acceptance recorded. Continuing.\n",
            "\n",
            "\n",
            "   Speedtest by Ookla\n",
            "\n",
            "      Server: Voiped Telecom - Borger (id: 41001)\n",
            "         ISP: Google Cloud\n",
            "Idle Latency:     4.79 ms   (jitter: 0.60ms, low: 4.67ms, high: 7.03ms)\n",
            "    Download:   885.18 Mbps (data used: 564.2 MB)                                                   \n",
            "                  9.03 ms   (jitter: 0.65ms, low: 4.41ms, high: 11.37ms)\n",
            "      Upload:   922.35 Mbps (data used: 449.6 MB)                                                   \n",
            "                 24.02 ms   (jitter: 2.20ms, low: 4.77ms, high: 48.42ms)\n",
            " Packet Loss: Not available.\n",
            "  Result URL: https://www.speedtest.net/result/c/99c102f8-458b-4c0b-b9e4-51f5e7b8beeb\n"
          ]
        }
      ]
    }
  ]
}