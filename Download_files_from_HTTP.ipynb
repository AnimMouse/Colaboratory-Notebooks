{
  "nbformat": 4,
  "nbformat_minor": 0,
  "metadata": {
    "colab": {
      "provenance": [],
      "authorship_tag": "ABX9TyNiB4duCF7uXyB4LjWFLnP0",
      "include_colab_link": true
    },
    "kernelspec": {
      "name": "python3",
      "display_name": "Python 3"
    },
    "language_info": {
      "name": "python"
    }
  },
  "cells": [
    {
      "cell_type": "markdown",
      "metadata": {
        "id": "view-in-github",
        "colab_type": "text"
      },
      "source": [
        "<a href=\"https://colab.research.google.com/github/AnimMouse/Colaboratory-Notebooks/blob/main/Download_files_from_HTTP.ipynb\" target=\"_parent\"><img src=\"https://colab.research.google.com/assets/colab-badge.svg\" alt=\"Open In Colab\"/></a>"
      ]
    },
    {
      "cell_type": "code",
      "execution_count": null,
      "metadata": {
        "id": "5a6zQZ8VRzHT"
      },
      "outputs": [],
      "source": [
        "!apt install aria2"
      ]
    },
    {
      "cell_type": "code",
      "source": [
        "#@title Data Input\n",
        "import os\n",
        "file_name = '' #@param {type:\"string\"}\n",
        "url = '' #@param {type:\"string\"}\n",
        "shared_drive_name = '' #@param {type:\"string\"}\n",
        "os.environ['file_name'] = file_name\n",
        "os.environ['url'] = url\n",
        "os.environ['shared_drive_name'] = shared_drive_name\n"
      ],
      "metadata": {
        "id": "n_mtT4oZTHwg"
      },
      "execution_count": null,
      "outputs": []
    },
    {
      "cell_type": "code",
      "source": [
        "!aria2c \"$url\""
      ],
      "metadata": {
        "id": "H2gt3Khq0ct3"
      },
      "execution_count": null,
      "outputs": []
    },
    {
      "cell_type": "code",
      "source": [
        "!sha256sum \"$file_name\""
      ],
      "metadata": {
        "id": "JK__8m1ghafz"
      },
      "execution_count": null,
      "outputs": []
    },
    {
      "cell_type": "code",
      "source": [
        "from google.colab import drive\n",
        "drive.mount('/content/drive')"
      ],
      "metadata": {
        "id": "2rH9N2USePR9"
      },
      "execution_count": null,
      "outputs": []
    },
    {
      "cell_type": "code",
      "source": [
        "!ls \"drive/Shareddrives/$shared_drive_name/\""
      ],
      "metadata": {
        "id": "F-SNpRVyUe4K"
      },
      "execution_count": null,
      "outputs": []
    },
    {
      "cell_type": "code",
      "source": [
        "!rsync -a --progress \"$file_name\" \"drive/Shareddrives/$shared_drive_name/\""
      ],
      "metadata": {
        "id": "o_douVu0eYIV"
      },
      "execution_count": null,
      "outputs": []
    },
    {
      "cell_type": "code",
      "source": [
        "!ls"
      ],
      "metadata": {
        "id": "aKKAMTNK1NxJ"
      },
      "execution_count": null,
      "outputs": []
    },
    {
      "cell_type": "code",
      "source": [
        "!rm \"$file_name\" \"$file_name.aria2\""
      ],
      "metadata": {
        "id": "QtgMqV-WUzA0"
      },
      "execution_count": null,
      "outputs": []
    }
  ]
}